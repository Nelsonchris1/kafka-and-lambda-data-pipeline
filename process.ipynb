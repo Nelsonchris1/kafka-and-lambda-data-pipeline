{
 "cells": [
  {
   "cell_type": "code",
   "execution_count": 1,
   "metadata": {},
   "outputs": [],
   "source": [
    "import pandas as pd"
   ]
  },
  {
   "cell_type": "code",
   "execution_count": 2,
   "metadata": {},
   "outputs": [],
   "source": [
    "df = pd.DataFrame(columns=['Output_file_name', 'Data_length', 'timestamp', 'output_file_name'])\n",
    "df.to_csv('record_run.csv', index=False)"
   ]
  },
  {
   "cell_type": "code",
   "execution_count": 3,
   "metadata": {},
   "outputs": [],
   "source": [
    "file_name = 'customer-orders+0+0000000000.json'.split('.')[0]"
   ]
  },
  {
   "cell_type": "code",
   "execution_count": 6,
   "metadata": {},
   "outputs": [],
   "source": [
    "import datetime\n",
    "time = datetime.datetime.now()"
   ]
  },
  {
   "cell_type": "code",
   "execution_count": 13,
   "metadata": {},
   "outputs": [],
   "source": [
    "\n",
    "record_run = pd.read_csv('record_run.csv')\n",
    "data_run = {'input_file_name': 'customer_input_00011111',\n",
    "                 'Data_length': 1000, \n",
    "                 'timestamp': datetime.datetime.utcnow().strftime(\"%a %b %d %H:%M:%S UTC %Y\"),\n",
    "                 'output_file_name': 'customer_01.csv'}\n",
    "record_run = record_run.append(data_run, ignore_index=True)\n",
    "record_run.to_csv('record_run.csv', index=False)\n"
   ]
  },
  {
   "cell_type": "code",
   "execution_count": 18,
   "metadata": {},
   "outputs": [
    {
     "data": {
      "text/plain": [
       "'customer-601'"
      ]
     },
     "execution_count": 18,
     "metadata": {},
     "output_type": "execute_result"
    }
   ],
   "source": [
    "file = 'topics/customer-orders/year=2022/month=04/day=20/hour=9/customer-601.json'.replace('.','/').split('/')[-2]\n",
    "file"
   ]
  },
  {
   "cell_type": "code",
   "execution_count": null,
   "metadata": {},
   "outputs": [],
   "source": []
  }
 ],
 "metadata": {
  "interpreter": {
   "hash": "115d690073c56dd6e3d4e9617724638ef1fba35526a70b91367248f6297def4c"
  },
  "kernelspec": {
   "display_name": "Python 3.8.8 ('nlp_course')",
   "language": "python",
   "name": "python3"
  },
  "language_info": {
   "codemirror_mode": {
    "name": "ipython",
    "version": 3
   },
   "file_extension": ".py",
   "mimetype": "text/x-python",
   "name": "python",
   "nbconvert_exporter": "python",
   "pygments_lexer": "ipython3",
   "version": "3.8.8"
  },
  "orig_nbformat": 4
 },
 "nbformat": 4,
 "nbformat_minor": 2
}
